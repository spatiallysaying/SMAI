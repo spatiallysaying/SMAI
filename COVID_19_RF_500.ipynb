{
  "nbformat": 4,
  "nbformat_minor": 0,
  "metadata": {
    "kernelspec": {
      "name": "python3",
      "display_name": "Python 3"
    },
    "colab": {
      "name": "COVID_19_RF_500.ipynb",
      "provenance": [],
      "collapsed_sections": [],
      "toc_visible": true,
      "include_colab_link": true
    },
    "accelerator": "GPU"
  },
  "cells": [
    {
      "cell_type": "markdown",
      "metadata": {
        "id": "view-in-github",
        "colab_type": "text"
      },
      "source": [
        "<a href=\"https://colab.research.google.com/github/spatiallysaying/SMAI/blob/master/COVID_19_RF_500.ipynb\" target=\"_parent\"><img src=\"https://colab.research.google.com/assets/colab-badge.svg\" alt=\"Open In Colab\"/></a>"
      ]
    },
    {
      "cell_type": "code",
      "metadata": {
        "id": "s_j7kl6HI_xH",
        "colab_type": "code",
        "outputId": "b41bac0e-84ad-436f-b1ae-47850e43a5b0",
        "colab": {
          "base_uri": "https://localhost:8080/",
          "height": 170
        }
      },
      "source": [
        "import sys\n",
        "import os\n",
        "import requests\n",
        "import subprocess\n",
        "import shutil\n",
        "from logging import getLogger, StreamHandler, INFO\n",
        "\n",
        "\n",
        "logger = getLogger(__name__)\n",
        "logger.addHandler(StreamHandler())\n",
        "logger.setLevel(INFO)\n",
        "\n",
        "\n",
        "def install(\n",
        "        chunk_size=4096,\n",
        "        file_name=\"Miniconda3-latest-Linux-x86_64.sh\",\n",
        "        url_base=\"https://repo.continuum.io/miniconda/\",\n",
        "        conda_path=os.path.expanduser(os.path.join(\"~\", \"miniconda\")),\n",
        "        rdkit_version=None,\n",
        "        add_python_path=True,\n",
        "        force=False):\n",
        "    \"\"\"install rdkit from miniconda\n",
        "    ```\n",
        "    import rdkit_installer\n",
        "    rdkit_installer.install()\n",
        "    ```\n",
        "    \"\"\"\n",
        "\n",
        "    python_path = os.path.join(\n",
        "        conda_path,\n",
        "        \"lib\",\n",
        "        \"python{0}.{1}\".format(*sys.version_info),\n",
        "        \"site-packages\",\n",
        "    )\n",
        "\n",
        "    if add_python_path and python_path not in sys.path:\n",
        "        logger.info(\"add {} to PYTHONPATH\".format(python_path))\n",
        "        sys.path.append(python_path)\n",
        "\n",
        "    if os.path.isdir(os.path.join(python_path, \"rdkit\")):\n",
        "        logger.info(\"rdkit is already installed\")\n",
        "        if not force:\n",
        "            return\n",
        "\n",
        "        logger.info(\"force re-install\")\n",
        "\n",
        "    url = url_base + file_name\n",
        "    python_version = \"{0}.{1}.{2}\".format(*sys.version_info)\n",
        "\n",
        "    logger.info(\"python version: {}\".format(python_version))\n",
        "\n",
        "    if os.path.isdir(conda_path):\n",
        "        logger.warning(\"remove current miniconda\")\n",
        "        shutil.rmtree(conda_path)\n",
        "    elif os.path.isfile(conda_path):\n",
        "        logger.warning(\"remove {}\".format(conda_path))\n",
        "        os.remove(conda_path)\n",
        "\n",
        "    logger.info('fetching installer from {}'.format(url))\n",
        "    res = requests.get(url, stream=True)\n",
        "    res.raise_for_status()\n",
        "    with open(file_name, 'wb') as f:\n",
        "        for chunk in res.iter_content(chunk_size):\n",
        "            f.write(chunk)\n",
        "    logger.info('done')\n",
        "\n",
        "    logger.info('installing miniconda to {}'.format(conda_path))\n",
        "    subprocess.check_call([\"bash\", file_name, \"-b\", \"-p\", conda_path])\n",
        "    logger.info('done')\n",
        "\n",
        "    logger.info(\"installing rdkit\")\n",
        "    subprocess.check_call([\n",
        "        os.path.join(conda_path, \"bin\", \"conda\"),\n",
        "        \"install\",\n",
        "        \"--yes\",\n",
        "        \"-c\", \"rdkit\",\n",
        "        \"python=={}\".format(python_version),\n",
        "        \"rdkit\" if rdkit_version is None else \"rdkit=={}\".format(rdkit_version)])\n",
        "    logger.info(\"done\")\n",
        "\n",
        "    import rdkit\n",
        "    logger.info(\"rdkit-{} installation finished!\".format(rdkit.__version__))\n",
        "\n",
        "\n",
        "if __name__ == \"__main__\":\n",
        "    install()\n"
      ],
      "execution_count": 0,
      "outputs": [
        {
          "output_type": "stream",
          "text": [
            "add /root/miniconda/lib/python3.6/site-packages to PYTHONPATH\n",
            "python version: 3.6.9\n",
            "fetching installer from https://repo.continuum.io/miniconda/Miniconda3-latest-Linux-x86_64.sh\n",
            "done\n",
            "installing miniconda to /root/miniconda\n",
            "done\n",
            "installing rdkit\n",
            "done\n",
            "rdkit-2020.03.1 installation finished!\n"
          ],
          "name": "stderr"
        }
      ]
    },
    {
      "cell_type": "code",
      "metadata": {
        "id": "MT6vGj2DIPAd",
        "colab_type": "code",
        "colab": {}
      },
      "source": [
        "import numpy as np\n",
        "import pandas as pd\n",
        "import matplotlib.pyplot as plt\n",
        "from rdkit import Chem\n",
        "import warnings\n",
        "warnings.filterwarnings('ignore')\n",
        "import torch\n",
        "from sklearn.model_selection import train_test_split\n",
        "from sklearn.metrics import mean_squared_error as mse\n",
        "from sklearn.metrics import mean_absolute_error as mae\n",
        "from sklearn.linear_model import LinearRegression,RidgeCV,Ridge,LassoCV,ElasticNet"
      ],
      "execution_count": 0,
      "outputs": []
    },
    {
      "cell_type": "code",
      "metadata": {
        "id": "jeWAUl83IysL",
        "colab_type": "code",
        "outputId": "321d6c37-2768-4a5e-ae7a-ffa1fcd7ded9",
        "colab": {
          "base_uri": "https://localhost:8080/",
          "height": 122
        }
      },
      "source": [
        "from google.colab import drive\n",
        "drive.mount('/content/drive')"
      ],
      "execution_count": 0,
      "outputs": [
        {
          "output_type": "stream",
          "text": [
            "Go to this URL in a browser: https://accounts.google.com/o/oauth2/auth?client_id=947318989803-6bn6qk8qdgf4n4g3pfee6491hc0brc4i.apps.googleusercontent.com&redirect_uri=urn%3aietf%3awg%3aoauth%3a2.0%3aoob&response_type=code&scope=email%20https%3a%2f%2fwww.googleapis.com%2fauth%2fdocs.test%20https%3a%2f%2fwww.googleapis.com%2fauth%2fdrive%20https%3a%2f%2fwww.googleapis.com%2fauth%2fdrive.photos.readonly%20https%3a%2f%2fwww.googleapis.com%2fauth%2fpeopleapi.readonly\n",
            "\n",
            "Enter your authorization code:\n",
            "··········\n",
            "Mounted at /content/drive\n"
          ],
          "name": "stdout"
        }
      ]
    },
    {
      "cell_type": "code",
      "metadata": {
        "id": "RHmYnrnUIWIm",
        "colab_type": "code",
        "colab": {}
      },
      "source": [
        "import os\n",
        "os.chdir('/content/drive/My Drive/drug')"
      ],
      "execution_count": 0,
      "outputs": []
    },
    {
      "cell_type": "code",
      "metadata": {
        "id": "KDs4f_peWUdX",
        "colab_type": "code",
        "colab": {}
      },
      "source": [
        "from sklearn.metrics import mean_absolute_error, mean_squared_error\n",
        "def evaluation(model, X_test, y_test):\n",
        "    prediction = model.predict(X_test)\n",
        "    mae = mean_absolute_error(y_test, prediction)\n",
        "    mse = np.sqrt(mean_squared_error(y_test, prediction))\n",
        "    \n",
        "    plt.figure(figsize=(15, 10))\n",
        "    plt.plot(prediction[:300], \"red\", label=\"prediction\", linewidth=1.0)\n",
        "    plt.plot(y_test[:300], 'green', label=\"actual\", linewidth=1.0)\n",
        "    plt.legend()\n",
        "    plt.ylabel('Binding Affinity')\n",
        "    plt.title(\"MAE {}, RMSE {}\".format(round(mae, 4), round(mse, 4)))\n",
        "    plt.show()\n",
        "    \n",
        "    print('MAE score:', round(mae, 4))\n",
        "    print('RMSE score:', round(mse,4))"
      ],
      "execution_count": 0,
      "outputs": []
    },
    {
      "cell_type": "markdown",
      "metadata": {
        "id": "h-Rle4nkhmWY",
        "colab_type": "text"
      },
      "source": [
        "# **WORD2VEC**"
      ]
    },
    {
      "cell_type": "code",
      "metadata": {
        "id": "yQ9BXiZqe3SG",
        "colab_type": "code",
        "colab": {}
      },
      "source": [
        "!pip install git+https://github.com/samoturk/mol2vec;"
      ],
      "execution_count": 0,
      "outputs": []
    },
    {
      "cell_type": "code",
      "metadata": {
        "id": "A8MvPf6yfwuF",
        "colab_type": "code",
        "colab": {}
      },
      "source": [
        "mdf=pd.read_csv('train.csv')"
      ],
      "execution_count": 0,
      "outputs": []
    },
    {
      "cell_type": "code",
      "metadata": {
        "id": "MKUIKdYrgK48",
        "colab_type": "code",
        "outputId": "52b4d6c3-a545-46a9-fe32-218302b00602",
        "colab": {
          "base_uri": "https://localhost:8080/",
          "height": 204
        }
      },
      "source": [
        "mdf.head()"
      ],
      "execution_count": 0,
      "outputs": [
        {
          "output_type": "execute_result",
          "data": {
            "text/html": [
              "<div>\n",
              "<style scoped>\n",
              "    .dataframe tbody tr th:only-of-type {\n",
              "        vertical-align: middle;\n",
              "    }\n",
              "\n",
              "    .dataframe tbody tr th {\n",
              "        vertical-align: top;\n",
              "    }\n",
              "\n",
              "    .dataframe thead th {\n",
              "        text-align: right;\n",
              "    }\n",
              "</style>\n",
              "<table border=\"1\" class=\"dataframe\">\n",
              "  <thead>\n",
              "    <tr style=\"text-align: right;\">\n",
              "      <th></th>\n",
              "      <th>SMILES sequence</th>\n",
              "      <th>Binding Affinity</th>\n",
              "    </tr>\n",
              "  </thead>\n",
              "  <tbody>\n",
              "    <tr>\n",
              "      <th>0</th>\n",
              "      <td>CCNC(C)C(NC)c1ccccc1</td>\n",
              "      <td>-18.0861</td>\n",
              "    </tr>\n",
              "    <tr>\n",
              "      <th>1</th>\n",
              "      <td>CONC(=O)c1cncnc1</td>\n",
              "      <td>-17.5783</td>\n",
              "    </tr>\n",
              "    <tr>\n",
              "      <th>2</th>\n",
              "      <td>CCNC1CCCN(Cc2ccsc2)C1</td>\n",
              "      <td>-20.3645</td>\n",
              "    </tr>\n",
              "    <tr>\n",
              "      <th>3</th>\n",
              "      <td>CC(NC(=O)CSCCN)c1ccccc1</td>\n",
              "      <td>-19.3144</td>\n",
              "    </tr>\n",
              "    <tr>\n",
              "      <th>4</th>\n",
              "      <td>CCC(CS)CN(C)c1ccccc1</td>\n",
              "      <td>-15.8451</td>\n",
              "    </tr>\n",
              "  </tbody>\n",
              "</table>\n",
              "</div>"
            ],
            "text/plain": [
              "           SMILES sequence  Binding Affinity\n",
              "0     CCNC(C)C(NC)c1ccccc1          -18.0861\n",
              "1         CONC(=O)c1cncnc1          -17.5783\n",
              "2    CCNC1CCCN(Cc2ccsc2)C1          -20.3645\n",
              "3  CC(NC(=O)CSCCN)c1ccccc1          -19.3144\n",
              "4     CCC(CS)CN(C)c1ccccc1          -15.8451"
            ]
          },
          "metadata": {
            "tags": []
          },
          "execution_count": 13
        }
      ]
    },
    {
      "cell_type": "code",
      "metadata": {
        "id": "HTXM2MOvf9TX",
        "colab_type": "code",
        "colab": {}
      },
      "source": [
        "target = mdf['Binding Affinity']\n",
        "mdf.drop(columns='Binding Affinity',inplace=True)"
      ],
      "execution_count": 0,
      "outputs": []
    },
    {
      "cell_type": "code",
      "metadata": {
        "id": "-vvIwDN8fd3O",
        "colab_type": "code",
        "colab": {}
      },
      "source": [
        "mdf['mol'] = mdf['SMILES sequence'] .apply(lambda x: Chem.MolFromSmiles(x))\n",
        "mdf['fingerprint'] = mdf['mol'] .apply(lambda x: Chem.RDKFingerprint(x).ToBitString())"
      ],
      "execution_count": 0,
      "outputs": []
    },
    {
      "cell_type": "code",
      "metadata": {
        "id": "pqCKDWnzgptn",
        "colab_type": "code",
        "colab": {}
      },
      "source": [
        "#Loading pre-trained model via word2vec\n",
        "from gensim.models import word2vec\n",
        "model = word2vec.Word2Vec.load('model_300dim.pkl')"
      ],
      "execution_count": 0,
      "outputs": []
    },
    {
      "cell_type": "code",
      "metadata": {
        "id": "wLcdX2oEmBYM",
        "colab_type": "code",
        "outputId": "253ff063-b194-473d-d44b-4a01cb70f004",
        "colab": {
          "base_uri": "https://localhost:8080/",
          "height": 122
        }
      },
      "source": [
        "from mol2vec.features import mol2alt_sentence, mol2sentence, MolSentence, DfVec, sentences2vec\n",
        "from gensim.models import word2vec\n",
        "print('Molecular sentence:', mol2alt_sentence(mdf['mol'][1], radius=1))\n",
        "print('\\nMolSentence object:', MolSentence(mol2alt_sentence(mdf['mol'][1], radius=1)))\n",
        "print('\\nDfVec object:',DfVec(sentences2vec(MolSentence(mol2alt_sentence(mdf['mol'][1], radius=1)), model, unseen='UNK')))"
      ],
      "execution_count": 0,
      "outputs": [
        {
          "output_type": "stream",
          "text": [
            "Molecular sentence: ['2246728737', '3975275337', '864674487', '903112553', '847961216', '2204949651', '2246699815', '1054767590', '864942730', '1510328189', '3217380708', '2994748777', '3218693969', '3777168895', '2041434490', '3118255683', '3218693969', '725322217', '2041434490', '3118255683', '3218693969', '3777168895']\n",
            "\n",
            "MolSentence object: MolSentence with 22 words\n",
            "\n",
            "DfVec object: (22, 100) dimensional vector\n"
          ],
          "name": "stdout"
        }
      ]
    },
    {
      "cell_type": "code",
      "metadata": {
        "id": "ew19P4N0h-2p",
        "colab_type": "code",
        "outputId": "33ff39a9-7534-407d-9762-2b708085e956",
        "colab": {
          "base_uri": "https://localhost:8080/",
          "height": 34
        }
      },
      "source": [
        "mdf.shape"
      ],
      "execution_count": 0,
      "outputs": [
        {
          "output_type": "execute_result",
          "data": {
            "text/plain": [
              "(9000, 3)"
            ]
          },
          "metadata": {
            "tags": []
          },
          "execution_count": 18
        }
      ]
    },
    {
      "cell_type": "code",
      "metadata": {
        "id": "Dl9w6LbnmMx7",
        "colab_type": "code",
        "outputId": "b952389f-9cc4-4e7c-def9-0b9a9a9b3888",
        "colab": {
          "base_uri": "https://localhost:8080/",
          "height": 34
        }
      },
      "source": [
        "#Constructing sentences\n",
        "mdf['sentence'] = mdf.apply(lambda x: MolSentence(mol2alt_sentence(x['mol'], 1)), axis=1)\n",
        "\n",
        "#Extracting embeddings to a numpy.array\n",
        "#Note that we always should mark unseen='UNK' in sentence2vec() so that model is taught how to handle unknown substructures\n",
        "mdf['mol2vec'] = [DfVec(x) for x in sentences2vec(mdf['sentence'], model, unseen='UNK')]\n",
        "X = np.array([x.vec for x in mdf['mol2vec']])\n",
        "y = target.values\n",
        "\n",
        "X.shape"
      ],
      "execution_count": 0,
      "outputs": [
        {
          "output_type": "execute_result",
          "data": {
            "text/plain": [
              "(9000, 100)"
            ]
          },
          "metadata": {
            "tags": []
          },
          "execution_count": 19
        }
      ]
    },
    {
      "cell_type": "code",
      "metadata": {
        "id": "IeC0LcsqEVVo",
        "colab_type": "code",
        "outputId": "b70548e0-0505-4d5e-8154-fb6be58546fe",
        "colab": {
          "base_uri": "https://localhost:8080/",
          "height": 34
        }
      },
      "source": [
        "mdf.columns"
      ],
      "execution_count": 0,
      "outputs": [
        {
          "output_type": "execute_result",
          "data": {
            "text/plain": [
              "Index(['SMILES sequence', 'mol', 'fingerprint', 'sentence', 'mol2vec'], dtype='object')"
            ]
          },
          "metadata": {
            "tags": []
          },
          "execution_count": 20
        }
      ]
    },
    {
      "cell_type": "code",
      "metadata": {
        "id": "DKxEy80kEZ-6",
        "colab_type": "code",
        "outputId": "40311540-c373-4b9c-fddf-9ddf42a3ae78",
        "colab": {
          "base_uri": "https://localhost:8080/",
          "height": 479
        }
      },
      "source": [
        "mdf.head()"
      ],
      "execution_count": 0,
      "outputs": [
        {
          "output_type": "execute_result",
          "data": {
            "text/html": [
              "<div>\n",
              "<style scoped>\n",
              "    .dataframe tbody tr th:only-of-type {\n",
              "        vertical-align: middle;\n",
              "    }\n",
              "\n",
              "    .dataframe tbody tr th {\n",
              "        vertical-align: top;\n",
              "    }\n",
              "\n",
              "    .dataframe thead th {\n",
              "        text-align: right;\n",
              "    }\n",
              "</style>\n",
              "<table border=\"1\" class=\"dataframe\">\n",
              "  <thead>\n",
              "    <tr style=\"text-align: right;\">\n",
              "      <th></th>\n",
              "      <th>SMILES sequence</th>\n",
              "      <th>mol</th>\n",
              "      <th>fingerprint</th>\n",
              "      <th>sentence</th>\n",
              "      <th>mol2vec</th>\n",
              "    </tr>\n",
              "  </thead>\n",
              "  <tbody>\n",
              "    <tr>\n",
              "      <th>0</th>\n",
              "      <td>CCNC(C)C(NC)c1ccccc1</td>\n",
              "      <td>&lt;img data-content=\"rdkit/molecule\" src=\"data:i...</td>\n",
              "      <td>0100000010100000100000000001000000000000000000...</td>\n",
              "      <td>(2246728737, 3542456614, 2245384272, 773607102...</td>\n",
              "      <td>(100,) dimensional vector</td>\n",
              "    </tr>\n",
              "    <tr>\n",
              "      <th>1</th>\n",
              "      <td>CONC(=O)c1cncnc1</td>\n",
              "      <td>&lt;img data-content=\"rdkit/molecule\" src=\"data:i...</td>\n",
              "      <td>1100010000100000001000000000000000000000000000...</td>\n",
              "      <td>(2246728737, 3975275337, 864674487, 903112553,...</td>\n",
              "      <td>(100,) dimensional vector</td>\n",
              "    </tr>\n",
              "    <tr>\n",
              "      <th>2</th>\n",
              "      <td>CCNC1CCCN(Cc2ccsc2)C1</td>\n",
              "      <td>&lt;img data-content=\"rdkit/molecule\" src=\"data:i...</td>\n",
              "      <td>0100000000100000100000000001000001000001001100...</td>\n",
              "      <td>(2246728737, 3542456614, 2245384272, 773607102...</td>\n",
              "      <td>(100,) dimensional vector</td>\n",
              "    </tr>\n",
              "    <tr>\n",
              "      <th>3</th>\n",
              "      <td>CC(NC(=O)CSCCN)c1ccccc1</td>\n",
              "      <td>&lt;img data-content=\"rdkit/molecule\" src=\"data:i...</td>\n",
              "      <td>0000000000100000001000000000000000000001001000...</td>\n",
              "      <td>(2246728737, 3537119515, 2245273601, 146777865...</td>\n",
              "      <td>(100,) dimensional vector</td>\n",
              "    </tr>\n",
              "    <tr>\n",
              "      <th>4</th>\n",
              "      <td>CCC(CS)CN(C)c1ccccc1</td>\n",
              "      <td>&lt;img data-content=\"rdkit/molecule\" src=\"data:i...</td>\n",
              "      <td>1000010000100000000000010001000000001000000000...</td>\n",
              "      <td>(2246728737, 3542456614, 2245384272, 150656359...</td>\n",
              "      <td>(100,) dimensional vector</td>\n",
              "    </tr>\n",
              "  </tbody>\n",
              "</table>\n",
              "</div>"
            ],
            "text/plain": [
              "           SMILES sequence  ...                    mol2vec\n",
              "0     CCNC(C)C(NC)c1ccccc1  ...  (100,) dimensional vector\n",
              "1         CONC(=O)c1cncnc1  ...  (100,) dimensional vector\n",
              "2    CCNC1CCCN(Cc2ccsc2)C1  ...  (100,) dimensional vector\n",
              "3  CC(NC(=O)CSCCN)c1ccccc1  ...  (100,) dimensional vector\n",
              "4     CCC(CS)CN(C)c1ccccc1  ...  (100,) dimensional vector\n",
              "\n",
              "[5 rows x 5 columns]"
            ]
          },
          "metadata": {
            "tags": []
          },
          "execution_count": 22
        }
      ]
    },
    {
      "cell_type": "code",
      "metadata": {
        "id": "2BP6uldiiVKJ",
        "colab_type": "code",
        "colab": {}
      },
      "source": [
        "X_train, X_test, y_train, y_test = train_test_split(X, y, test_size=.3, random_state=1)"
      ],
      "execution_count": 0,
      "outputs": []
    },
    {
      "cell_type": "markdown",
      "metadata": {
        "id": "EKC9zCB4cRH4",
        "colab_type": "text"
      },
      "source": [
        "# **RidgeCV**"
      ]
    },
    {
      "cell_type": "code",
      "metadata": {
        "id": "-V3s-EYVmSm7",
        "colab_type": "code",
        "outputId": "53dc1527-9407-4939-9571-bb67ea2f63a6",
        "colab": {
          "base_uri": "https://localhost:8080/",
          "height": 136
        }
      },
      "source": [
        "\n",
        "alphas = [0.1, 1, 10, 100, 1e3, 1e4, 2e4, 5e4, 8e4, 1e5, 1e6, 1e7, 1e8]\n",
        "ridge = RidgeCV(alphas=alphas)\n",
        "ridge.fit(X_train, y_train)\n",
        "\n",
        "print('Training Accuracy')\n",
        "evaluation(ridge, X_train, y_train)\n",
        "print('\\nTesting Accuracy')\n",
        "evaluation(ridge, X_test, y_test)"
      ],
      "execution_count": 0,
      "outputs": [
        {
          "output_type": "stream",
          "text": [
            "Training Accuracy\n",
            "MAE score: 1.8002\n",
            "RMSE score: 2.4499\n",
            "\n",
            "Testing Accuracy\n",
            "MAE score: 1.8686\n",
            "RMSE score: 2.5971\n"
          ],
          "name": "stdout"
        }
      ]
    },
    {
      "cell_type": "markdown",
      "metadata": {
        "id": "IEE8ixJvcbcx",
        "colab_type": "text"
      },
      "source": [
        "# **XGBRegressor**"
      ]
    },
    {
      "cell_type": "code",
      "metadata": {
        "id": "06SHRFJL24xH",
        "colab_type": "code",
        "outputId": "8db614f6-97d4-484a-d2a8-c2dd1b87e95f",
        "colab": {
          "base_uri": "https://localhost:8080/",
          "height": 173
        }
      },
      "source": [
        "from xgboost import XGBRegressor\n",
        "XGBModel = XGBRegressor(n_estimators = 500,reg='squarederror', oob_score = True, n_jobs = -1,random_state =50,verbose=1)\n",
        "XGBModel.fit(X, y)\n",
        "\n",
        "print('Training Accuracy')\n",
        "evaluation(XGBModel, X, y)\n",
        "print('\\nTesting Accuracy')\n",
        "evaluation(XGBModel, X, y)"
      ],
      "execution_count": 0,
      "outputs": [
        {
          "output_type": "stream",
          "text": [
            "[03:44:49] WARNING: /workspace/src/objective/regression_obj.cu:152: reg:linear is now deprecated in favor of reg:squarederror.\n",
            "Training Accuracy\n",
            "MAE score: 1.344\n",
            "RMSE score: 1.7968\n",
            "\n",
            "Testing Accuracy\n",
            "MAE score: 1.344\n",
            "RMSE score: 1.7968\n"
          ],
          "name": "stdout"
        }
      ]
    },
    {
      "cell_type": "markdown",
      "metadata": {
        "id": "MRDgB0t8cice",
        "colab_type": "text"
      },
      "source": [
        "# **RandomForestRegressor**"
      ]
    },
    {
      "cell_type": "code",
      "metadata": {
        "id": "Fn0C2bnT3euy",
        "colab_type": "code",
        "outputId": "2063ada7-121a-458a-810e-61a48208fd55",
        "colab": {
          "base_uri": "https://localhost:8080/",
          "height": 238
        }
      },
      "source": [
        "from sklearn.ensemble import RandomForestRegressor\n",
        "#rf = RandomForestRegressor()\n",
        "rf=RandomForestRegressor(n_estimators = 500, oob_score = True, n_jobs = -1,random_state =50,verbose=1)\n",
        "rf.fit(X, y)\n",
        "'''\n",
        "print('Training Accuracy')\n",
        "evaluation(rf, X_train, y_train)\n",
        "print('\\nTesting Accuracy')\n",
        "evaluation(rf, X_test, y_test)\n",
        "'''\n",
        "print('Accuracy')\n",
        "evaluation(rf, X, y)"
      ],
      "execution_count": 0,
      "outputs": [
        {
          "output_type": "stream",
          "text": [
            "[Parallel(n_jobs=-1)]: Using backend ThreadingBackend with 2 concurrent workers.\n",
            "[Parallel(n_jobs=-1)]: Done  46 tasks      | elapsed:   21.9s\n",
            "[Parallel(n_jobs=-1)]: Done 196 tasks      | elapsed:  1.5min\n",
            "[Parallel(n_jobs=-1)]: Done 446 tasks      | elapsed:  3.5min\n",
            "[Parallel(n_jobs=-1)]: Done 500 out of 500 | elapsed:  3.9min finished\n"
          ],
          "name": "stderr"
        },
        {
          "output_type": "stream",
          "text": [
            "Accuracy\n"
          ],
          "name": "stdout"
        },
        {
          "output_type": "stream",
          "text": [
            "[Parallel(n_jobs=2)]: Using backend ThreadingBackend with 2 concurrent workers.\n",
            "[Parallel(n_jobs=2)]: Done  46 tasks      | elapsed:    0.1s\n",
            "[Parallel(n_jobs=2)]: Done 196 tasks      | elapsed:    0.3s\n"
          ],
          "name": "stderr"
        },
        {
          "output_type": "stream",
          "text": [
            "MAE score: 0.6943\n",
            "RMSE score: 0.947\n"
          ],
          "name": "stdout"
        },
        {
          "output_type": "stream",
          "text": [
            "[Parallel(n_jobs=2)]: Done 446 tasks      | elapsed:    0.6s\n",
            "[Parallel(n_jobs=2)]: Done 500 out of 500 | elapsed:    0.7s finished\n"
          ],
          "name": "stderr"
        }
      ]
    }
  ]
}