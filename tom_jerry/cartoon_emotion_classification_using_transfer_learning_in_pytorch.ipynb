{
  "nbformat": 4,
  "nbformat_minor": 0,
  "metadata": {
    "kernelspec": {
      "display_name": "Python 3",
      "language": "python",
      "name": "python3"
    },
    "language_info": {
      "codemirror_mode": {
        "name": "ipython",
        "version": 3
      },
      "file_extension": ".py",
      "mimetype": "text/x-python",
      "name": "python",
      "nbconvert_exporter": "python",
      "pygments_lexer": "ipython3",
      "version": "3.6.7"
    },
    "colab": {
      "name": "cartoon_emotion_classification_using_transfer_learning_in_pytorch.ipynb",
      "provenance": []
    },
    "accelerator": "GPU",
    "widgets": {
      "application/vnd.jupyter.widget-state+json": {
        "486bde91807f42dcb831498f79778e5d": {
          "model_module": "@jupyter-widgets/controls",
          "model_name": "HBoxModel",
          "state": {
            "_view_name": "HBoxView",
            "_dom_classes": [],
            "_model_name": "HBoxModel",
            "_view_module": "@jupyter-widgets/controls",
            "_model_module_version": "1.5.0",
            "_view_count": null,
            "_view_module_version": "1.5.0",
            "box_style": "",
            "layout": "IPY_MODEL_717842429f61412b947d12f4be64e50b",
            "_model_module": "@jupyter-widgets/controls",
            "children": [
              "IPY_MODEL_3cd034021d084047a2d8010f4f197be8",
              "IPY_MODEL_cc63cdf588324f2a8eeed3ea61f7b685"
            ]
          }
        },
        "717842429f61412b947d12f4be64e50b": {
          "model_module": "@jupyter-widgets/base",
          "model_name": "LayoutModel",
          "state": {
            "_view_name": "LayoutView",
            "grid_template_rows": null,
            "right": null,
            "justify_content": null,
            "_view_module": "@jupyter-widgets/base",
            "overflow": null,
            "_model_module_version": "1.2.0",
            "_view_count": null,
            "flex_flow": null,
            "width": null,
            "min_width": null,
            "border": null,
            "align_items": null,
            "bottom": null,
            "_model_module": "@jupyter-widgets/base",
            "top": null,
            "grid_column": null,
            "overflow_y": null,
            "overflow_x": null,
            "grid_auto_flow": null,
            "grid_area": null,
            "grid_template_columns": null,
            "flex": null,
            "_model_name": "LayoutModel",
            "justify_items": null,
            "grid_row": null,
            "max_height": null,
            "align_content": null,
            "visibility": null,
            "align_self": null,
            "height": null,
            "min_height": null,
            "padding": null,
            "grid_auto_rows": null,
            "grid_gap": null,
            "max_width": null,
            "order": null,
            "_view_module_version": "1.2.0",
            "grid_template_areas": null,
            "object_position": null,
            "object_fit": null,
            "grid_auto_columns": null,
            "margin": null,
            "display": null,
            "left": null
          }
        },
        "3cd034021d084047a2d8010f4f197be8": {
          "model_module": "@jupyter-widgets/controls",
          "model_name": "IntProgressModel",
          "state": {
            "_view_name": "ProgressView",
            "style": "IPY_MODEL_e6abcec8222f4717b699fa8f9475030c",
            "_dom_classes": [],
            "description": "100%",
            "_model_name": "IntProgressModel",
            "bar_style": "success",
            "max": 167502836,
            "_view_module": "@jupyter-widgets/controls",
            "_model_module_version": "1.5.0",
            "value": 167502836,
            "_view_count": null,
            "_view_module_version": "1.5.0",
            "orientation": "horizontal",
            "min": 0,
            "description_tooltip": null,
            "_model_module": "@jupyter-widgets/controls",
            "layout": "IPY_MODEL_daf1ecf2abc34ffe9a86b34e0b44f779"
          }
        },
        "cc63cdf588324f2a8eeed3ea61f7b685": {
          "model_module": "@jupyter-widgets/controls",
          "model_name": "HTMLModel",
          "state": {
            "_view_name": "HTMLView",
            "style": "IPY_MODEL_df8256b6d8f84512958bb66395eb08ae",
            "_dom_classes": [],
            "description": "",
            "_model_name": "HTMLModel",
            "placeholder": "​",
            "_view_module": "@jupyter-widgets/controls",
            "_model_module_version": "1.5.0",
            "value": " 160M/160M [18:59&lt;00:00, 147kB/s]",
            "_view_count": null,
            "_view_module_version": "1.5.0",
            "description_tooltip": null,
            "_model_module": "@jupyter-widgets/controls",
            "layout": "IPY_MODEL_4382ad7e299d423c8ee13a04c9f5b45c"
          }
        },
        "e6abcec8222f4717b699fa8f9475030c": {
          "model_module": "@jupyter-widgets/controls",
          "model_name": "ProgressStyleModel",
          "state": {
            "_view_name": "StyleView",
            "_model_name": "ProgressStyleModel",
            "description_width": "initial",
            "_view_module": "@jupyter-widgets/base",
            "_model_module_version": "1.5.0",
            "_view_count": null,
            "_view_module_version": "1.2.0",
            "bar_color": null,
            "_model_module": "@jupyter-widgets/controls"
          }
        },
        "daf1ecf2abc34ffe9a86b34e0b44f779": {
          "model_module": "@jupyter-widgets/base",
          "model_name": "LayoutModel",
          "state": {
            "_view_name": "LayoutView",
            "grid_template_rows": null,
            "right": null,
            "justify_content": null,
            "_view_module": "@jupyter-widgets/base",
            "overflow": null,
            "_model_module_version": "1.2.0",
            "_view_count": null,
            "flex_flow": null,
            "width": null,
            "min_width": null,
            "border": null,
            "align_items": null,
            "bottom": null,
            "_model_module": "@jupyter-widgets/base",
            "top": null,
            "grid_column": null,
            "overflow_y": null,
            "overflow_x": null,
            "grid_auto_flow": null,
            "grid_area": null,
            "grid_template_columns": null,
            "flex": null,
            "_model_name": "LayoutModel",
            "justify_items": null,
            "grid_row": null,
            "max_height": null,
            "align_content": null,
            "visibility": null,
            "align_self": null,
            "height": null,
            "min_height": null,
            "padding": null,
            "grid_auto_rows": null,
            "grid_gap": null,
            "max_width": null,
            "order": null,
            "_view_module_version": "1.2.0",
            "grid_template_areas": null,
            "object_position": null,
            "object_fit": null,
            "grid_auto_columns": null,
            "margin": null,
            "display": null,
            "left": null
          }
        },
        "df8256b6d8f84512958bb66395eb08ae": {
          "model_module": "@jupyter-widgets/controls",
          "model_name": "DescriptionStyleModel",
          "state": {
            "_view_name": "StyleView",
            "_model_name": "DescriptionStyleModel",
            "description_width": "",
            "_view_module": "@jupyter-widgets/base",
            "_model_module_version": "1.5.0",
            "_view_count": null,
            "_view_module_version": "1.2.0",
            "_model_module": "@jupyter-widgets/controls"
          }
        },
        "4382ad7e299d423c8ee13a04c9f5b45c": {
          "model_module": "@jupyter-widgets/base",
          "model_name": "LayoutModel",
          "state": {
            "_view_name": "LayoutView",
            "grid_template_rows": null,
            "right": null,
            "justify_content": null,
            "_view_module": "@jupyter-widgets/base",
            "overflow": null,
            "_model_module_version": "1.2.0",
            "_view_count": null,
            "flex_flow": null,
            "width": null,
            "min_width": null,
            "border": null,
            "align_items": null,
            "bottom": null,
            "_model_module": "@jupyter-widgets/base",
            "top": null,
            "grid_column": null,
            "overflow_y": null,
            "overflow_x": null,
            "grid_auto_flow": null,
            "grid_area": null,
            "grid_template_columns": null,
            "flex": null,
            "_model_name": "LayoutModel",
            "justify_items": null,
            "grid_row": null,
            "max_height": null,
            "align_content": null,
            "visibility": null,
            "align_self": null,
            "height": null,
            "min_height": null,
            "padding": null,
            "grid_auto_rows": null,
            "grid_gap": null,
            "max_width": null,
            "order": null,
            "_view_module_version": "1.2.0",
            "grid_template_areas": null,
            "object_position": null,
            "object_fit": null,
            "grid_auto_columns": null,
            "margin": null,
            "display": null,
            "left": null
          }
        }
      }
    }
  },
  "cells": [
    {
      "cell_type": "code",
      "metadata": {
        "id": "Z1gJlndvlRYT",
        "colab_type": "code",
        "colab": {}
      },
      "source": [
        "#%env CUDA_VISIBLE_DEVICES=2\n",
        "\n",
        "import torch, torchvision\n",
        "from torchvision import datasets, models, transforms\n",
        "import torch.nn as nn\n",
        "import torch.optim as optim\n",
        "from torch.utils.data import DataLoader\n",
        "import time\n",
        "from torchsummary import summary\n",
        "\n",
        "import numpy as np\n",
        "import matplotlib.pyplot as plt\n",
        "import os\n",
        "\n",
        "from PIL import Image"
      ],
      "execution_count": 0,
      "outputs": []
    },
    {
      "cell_type": "code",
      "metadata": {
        "id": "SEwBmocBmQ1o",
        "colab_type": "code",
        "colab": {
          "base_uri": "https://localhost:8080/",
          "height": 122
        },
        "outputId": "c99d3324-76a9-4562-f274-7ae87dbaa973"
      },
      "source": [
        "from google.colab import drive\n",
        "drive.mount('/content/drive')"
      ],
      "execution_count": 2,
      "outputs": [
        {
          "output_type": "stream",
          "text": [
            "Go to this URL in a browser: https://accounts.google.com/o/oauth2/auth?client_id=947318989803-6bn6qk8qdgf4n4g3pfee6491hc0brc4i.apps.googleusercontent.com&redirect_uri=urn%3aietf%3awg%3aoauth%3a2.0%3aoob&response_type=code&scope=email%20https%3a%2f%2fwww.googleapis.com%2fauth%2fdocs.test%20https%3a%2f%2fwww.googleapis.com%2fauth%2fdrive%20https%3a%2f%2fwww.googleapis.com%2fauth%2fdrive.photos.readonly%20https%3a%2f%2fwww.googleapis.com%2fauth%2fpeopleapi.readonly\n",
            "\n",
            "Enter your authorization code:\n",
            "··········\n",
            "Mounted at /content/drive\n"
          ],
          "name": "stdout"
        }
      ]
    },
    {
      "cell_type": "code",
      "metadata": {
        "id": "CQB2cjJqmgNx",
        "colab_type": "code",
        "colab": {}
      },
      "source": [
        "os.chdir('/content/drive/My Drive/Detecto_Face')"
      ],
      "execution_count": 0,
      "outputs": []
    },
    {
      "cell_type": "code",
      "metadata": {
        "id": "Nn4GD876lRYi",
        "colab_type": "code",
        "colab": {}
      },
      "source": [
        "# Applying Transforms to the Data\n",
        "image_transforms = { \n",
        "    'train': transforms.Compose([\n",
        "        transforms.RandomResizedCrop(size=256, scale=(0.8, 1.0)),\n",
        "        transforms.RandomRotation(degrees=15),\n",
        "        transforms.RandomHorizontalFlip(),\n",
        "        transforms.CenterCrop(size=224),\n",
        "        transforms.ToTensor(),\n",
        "        transforms.Normalize([0.485, 0.456, 0.406],\n",
        "                             [0.229, 0.224, 0.225])\n",
        "    ]),\n",
        "    'val': transforms.Compose([\n",
        "        transforms.Resize(size=256),\n",
        "        transforms.CenterCrop(size=224),\n",
        "        transforms.ToTensor(),\n",
        "        transforms.Normalize([0.485, 0.456, 0.406],\n",
        "                             [0.229, 0.224, 0.225])\n",
        "    ]),\n",
        "    'test': transforms.Compose([\n",
        "        transforms.Resize(size=256),\n",
        "        transforms.CenterCrop(size=224),\n",
        "        transforms.ToTensor(),\n",
        "        transforms.Normalize([0.485, 0.456, 0.406],\n",
        "                             [0.229, 0.224, 0.225])\n",
        "    ])\n",
        "}"
      ],
      "execution_count": 0,
      "outputs": []
    },
    {
      "cell_type": "code",
      "metadata": {
        "id": "kYkcHXG3lRYt",
        "colab_type": "code",
        "colab": {
          "base_uri": "https://localhost:8080/",
          "height": 51
        },
        "outputId": "4d5c0cd0-a3ce-496a-e66f-aa07d9f178d8"
      },
      "source": [
        "# Load the Data\n",
        "\n",
        "# Set train and val directory paths\n",
        "\n",
        "dataset = 'ntrain_faces_categories'\n",
        "\n",
        "train_directory = os.path.join(dataset, 'train')\n",
        "val_directory = os.path.join(dataset, 'val')\n",
        "test_directory = os.path.join(dataset, 'val')\n",
        "\n",
        "# Batch size\n",
        "bs = 32\n",
        "\n",
        "# Number of classes\n",
        "num_classes = 5\n",
        "print(num_classes)\n",
        "\n",
        "# Load Data from folders\n",
        "data = {\n",
        "    'train': datasets.ImageFolder(root=train_directory, transform=image_transforms['train']),\n",
        "    'val': datasets.ImageFolder(root=val_directory, transform=image_transforms['val']),\n",
        "    'test': datasets.ImageFolder(root=test_directory, transform=image_transforms['test'])\n",
        "}\n",
        "\n",
        "# Get a mapping of the indices to the class names, in order to see the output classes of the test images.\n",
        "idx_to_class = {v: k for k, v in data['train'].class_to_idx.items()}\n",
        "print(idx_to_class)\n",
        "\n",
        "# Size of Data, to be used for calculating Average Loss and Accuracy\n",
        "train_data_size = len(data['train'])\n",
        "val_data_size = len(data['val'])\n",
        "test_data_size = len(data['test'])\n",
        "\n",
        "# Create iterators for the Data loaded using DataLoader module\n",
        "train_data_loader = DataLoader(data['train'], batch_size=bs, shuffle=True)\n",
        "val_data_loader = DataLoader(data['val'], batch_size=bs, shuffle=True)\n",
        "test_data_loader = DataLoader(data['test'], batch_size=bs, shuffle=True)"
      ],
      "execution_count": 12,
      "outputs": [
        {
          "output_type": "stream",
          "text": [
            "5\n",
            "{0: 'Unknown', 1: 'angry', 2: 'happy', 3: 'sad', 4: 'surprised'}\n"
          ],
          "name": "stdout"
        }
      ]
    },
    {
      "cell_type": "code",
      "metadata": {
        "id": "5qYY6rcmlRY3",
        "colab_type": "code",
        "colab": {
          "base_uri": "https://localhost:8080/",
          "height": 34
        },
        "outputId": "48c563c8-0dab-4e40-a6cf-90a657f5c35c"
      },
      "source": [
        "train_data_size, val_data_size, test_data_size"
      ],
      "execution_count": 34,
      "outputs": [
        {
          "output_type": "execute_result",
          "data": {
            "text/plain": [
              "(1320, 279, 279)"
            ]
          },
          "metadata": {
            "tags": []
          },
          "execution_count": 34
        }
      ]
    },
    {
      "cell_type": "code",
      "metadata": {
        "id": "Re9O65jZlRZB",
        "colab_type": "code",
        "colab": {}
      },
      "source": [
        "res_mod = models.resnet152(pretrained=True)\n",
        "\n",
        "num_ftrs = res_mod.fc.in_features\n",
        "\n",
        "res_mod.fc = nn.Sequential(\n",
        "    nn.Linear(num_ftrs, 256),\n",
        "    nn.ReLU(),\n",
        "    nn.Dropout(0.4),\n",
        "    nn.Linear(256, num_classes), # Since 5 possible outputs\n",
        "    nn.LogSoftmax(dim=1) # For using NLLLoss()\n",
        ")"
      ],
      "execution_count": 0,
      "outputs": []
    },
    {
      "cell_type": "code",
      "metadata": {
        "id": "A-7rmmuYlRZX",
        "colab_type": "code",
        "colab": {}
      },
      "source": [
        "import torch.optim as optim\n",
        "from torch.optim import lr_scheduler\n",
        "\n",
        "res_mod = res_mod.to(device)\n",
        "criterion = nn.CrossEntropyLoss()\n",
        "\n",
        "# Observe that all parameters are being optimized\n",
        "optimizer_ft = optim.SGD(res_mod.parameters(), lr=0.001, momentum=0.9)\n",
        "# Define Optimizer and Loss Function\n",
        "loss_func = nn.NLLLoss()\n",
        "# Decay LR by a factor of 0.1 every 7 epochs\n",
        "exp_lr_scheduler = lr_scheduler.StepLR(optimizer_ft, step_size=7, gamma=0.1)\n"
      ],
      "execution_count": 0,
      "outputs": []
    },
    {
      "cell_type": "code",
      "metadata": {
        "id": "o4AblDLNlRZq",
        "colab_type": "code",
        "colab": {}
      },
      "source": [
        "def train_and_validate(model, loss_criterion, optimizer, epochs=25):\n",
        "    '''\n",
        "    Function to train and valate\n",
        "    Parameters\n",
        "        :param model: Model to train and valate\n",
        "        :param loss_criterion: Loss Criterion to minimize\n",
        "        :param optimizer: Optimizer for computing gradients\n",
        "        :param epochs: Number of epochs (default=25)\n",
        "  \n",
        "    Returns\n",
        "        model: Trained Model with best valation accuracy\n",
        "        history: (dict object): Having training loss, accuracy and valation loss, accuracy\n",
        "    '''\n",
        "    \n",
        "    start = time.time()\n",
        "    history = []\n",
        "    best_acc = 0.0\n",
        "\n",
        "    for epoch in range(epochs):\n",
        "        epoch_start = time.time()\n",
        "        print(\"Epoch: {}/{}\".format(epoch+1, epochs))\n",
        "        \n",
        "        # Set to training mode\n",
        "        model.train()\n",
        "        \n",
        "        # Loss and Accuracy within the epoch\n",
        "        train_loss = 0.0\n",
        "        train_acc = 0.0\n",
        "        \n",
        "        val_loss = 0.0\n",
        "        val_acc = 0.0\n",
        "        \n",
        "        for i, (inputs, labels) in enumerate(train_data_loader):\n",
        "\n",
        "            inputs = inputs.to(device)\n",
        "            labels = labels.to(device)\n",
        "            \n",
        "            # Clean existing gradients\n",
        "            optimizer.zero_grad()\n",
        "            \n",
        "            # Forward pass - compute outputs on input data using the model\n",
        "            outputs = model(inputs)\n",
        "            \n",
        "            # Compute loss\n",
        "            loss = loss_criterion(outputs, labels)\n",
        "            \n",
        "            # Backpropagate the gradients\n",
        "            loss.backward()\n",
        "            \n",
        "            # Update the parameters\n",
        "            optimizer.step()\n",
        "            \n",
        "            # Compute the total loss for the batch and add it to train_loss\n",
        "            train_loss += loss.item() * inputs.size(0)\n",
        "            \n",
        "            # Compute the accuracy\n",
        "            ret, predictions = torch.max(outputs.data, 1)\n",
        "            correct_counts = predictions.eq(labels.data.view_as(predictions))\n",
        "            \n",
        "            # Convert correct_counts to float and then compute the mean\n",
        "            acc = torch.mean(correct_counts.type(torch.FloatTensor))\n",
        "            \n",
        "            # Compute total accuracy in the whole batch and add to train_acc\n",
        "            train_acc += acc.item() * inputs.size(0)\n",
        "            \n",
        "            #print(\"Batch number: {:03d}, Training: Loss: {:.4f}, Accuracy: {:.4f}\".format(i, loss.item(), acc.item()))\n",
        "\n",
        "            \n",
        "        # valation - No gradient tracking needed\n",
        "        with torch.no_grad():\n",
        "\n",
        "            # Set to evaluation mode\n",
        "            model.eval()\n",
        "\n",
        "            # valation loop\n",
        "            for j, (inputs, labels) in enumerate(val_data_loader):\n",
        "                inputs = inputs.to(device)\n",
        "                labels = labels.to(device)\n",
        "\n",
        "                # Forward pass - compute outputs on input data using the model\n",
        "                outputs = model(inputs)\n",
        "\n",
        "                # Compute loss\n",
        "                loss = loss_criterion(outputs, labels)\n",
        "\n",
        "                # Compute the total loss for the batch and add it to val_loss\n",
        "                val_loss += loss.item() * inputs.size(0)\n",
        "\n",
        "                # Calculate valation accuracy\n",
        "                ret, predictions = torch.max(outputs.data, 1)\n",
        "                correct_counts = predictions.eq(labels.data.view_as(predictions))\n",
        "\n",
        "                # Convert correct_counts to float and then compute the mean\n",
        "                acc = torch.mean(correct_counts.type(torch.FloatTensor))\n",
        "\n",
        "                # Compute total accuracy in the whole batch and add to val_acc\n",
        "                val_acc += acc.item() * inputs.size(0)\n",
        "\n",
        "                #print(\"valation Batch number: {:03d}, valation: Loss: {:.4f}, Accuracy: {:.4f}\".format(j, loss.item(), acc.item()))\n",
        "            \n",
        "        # Find average training loss and training accuracy\n",
        "        avg_train_loss = train_loss/train_data_size \n",
        "        avg_train_acc = train_acc/train_data_size\n",
        "\n",
        "        # Find average training loss and training accuracy\n",
        "        avg_val_loss = val_loss/val_data_size \n",
        "        avg_val_acc = val_acc/val_data_size\n",
        "\n",
        "        history.append([avg_train_loss, avg_val_loss, avg_train_acc, avg_val_acc])\n",
        "                \n",
        "        epoch_end = time.time()\n",
        "    \n",
        "        print(\"Epoch : {:03d}, Training: Loss: {:.4f}, Accuracy: {:.4f}%, \\n\\t\\tvalation : Loss : {:.4f}, Accuracy: {:.4f}%, Time: {:.4f}s\".format(epoch, avg_train_loss, avg_train_acc*100, avg_val_loss, avg_val_acc*100, epoch_end-epoch_start))\n",
        "        \n",
        "        # Save if the model has best accuracy till now\n",
        "        torch.save(model, dataset+'_model_'+str(epoch)+'.pt')\n",
        "            \n",
        "    return model, history\n",
        "    "
      ],
      "execution_count": 0,
      "outputs": []
    },
    {
      "cell_type": "code",
      "metadata": {
        "id": "Vh6JBVsflRZ2",
        "colab_type": "code",
        "colab": {
          "base_uri": "https://localhost:8080/",
          "height": 1000
        },
        "outputId": "1b17cec8-af83-44ff-f5f7-5a4b77af7ea8"
      },
      "source": [
        "device = torch.device(\"cuda:0\" if torch.cuda.is_available() else \"cpu\")\n",
        "\n",
        "# Print the model to be trained\n",
        "#summary(resnet50, input_size=(3, 224, 224), batch_size=bs, device='cuda')\n",
        "\n",
        "# Train the model for 25 epochs\n",
        "num_epochs = 30\n",
        "trained_model, history = train_and_validate(res_mod, loss_func, optimizer_ft, num_epochs)\n",
        "\n",
        "torch.save(history, dataset+'_history.pt')"
      ],
      "execution_count": 41,
      "outputs": [
        {
          "output_type": "stream",
          "text": [
            "Epoch: 1/30\n",
            "Epoch : 000, Training: Loss: 1.5250, Accuracy: 29.7727%, \n",
            "\t\tvalation : Loss : 1.7435, Accuracy: 22.2222%, Time: 47.7447s\n",
            "Epoch: 2/30\n",
            "Epoch : 001, Training: Loss: 1.4045, Accuracy: 44.0152%, \n",
            "\t\tvalation : Loss : 1.6496, Accuracy: 24.7312%, Time: 47.8485s\n",
            "Epoch: 3/30\n",
            "Epoch : 002, Training: Loss: 1.2295, Accuracy: 51.9697%, \n",
            "\t\tvalation : Loss : 1.5607, Accuracy: 30.8244%, Time: 47.9486s\n",
            "Epoch: 4/30\n",
            "Epoch : 003, Training: Loss: 1.0395, Accuracy: 58.9394%, \n",
            "\t\tvalation : Loss : 1.5003, Accuracy: 36.9176%, Time: 48.4184s\n",
            "Epoch: 5/30\n",
            "Epoch : 004, Training: Loss: 0.8519, Accuracy: 68.0303%, \n",
            "\t\tvalation : Loss : 1.4311, Accuracy: 40.1434%, Time: 48.0880s\n",
            "Epoch: 6/30\n",
            "Epoch : 005, Training: Loss: 0.6791, Accuracy: 78.0303%, \n",
            "\t\tvalation : Loss : 1.5143, Accuracy: 42.2939%, Time: 48.5185s\n",
            "Epoch: 7/30\n",
            "Epoch : 006, Training: Loss: 0.5097, Accuracy: 83.7121%, \n",
            "\t\tvalation : Loss : 1.4997, Accuracy: 45.8781%, Time: 48.9368s\n",
            "Epoch: 8/30\n",
            "Epoch : 007, Training: Loss: 0.3767, Accuracy: 88.1818%, \n",
            "\t\tvalation : Loss : 1.5453, Accuracy: 47.6703%, Time: 48.1551s\n",
            "Epoch: 9/30\n",
            "Epoch : 008, Training: Loss: 0.2890, Accuracy: 91.5909%, \n",
            "\t\tvalation : Loss : 1.5425, Accuracy: 50.8961%, Time: 48.0942s\n",
            "Epoch: 10/30\n",
            "Epoch : 009, Training: Loss: 0.2125, Accuracy: 94.1667%, \n",
            "\t\tvalation : Loss : 1.6717, Accuracy: 52.3297%, Time: 48.1774s\n",
            "Epoch: 11/30\n",
            "Epoch : 010, Training: Loss: 0.1655, Accuracy: 94.8485%, \n",
            "\t\tvalation : Loss : 1.6023, Accuracy: 52.6882%, Time: 48.1991s\n",
            "Epoch: 12/30\n",
            "Epoch : 011, Training: Loss: 0.1296, Accuracy: 96.5909%, \n",
            "\t\tvalation : Loss : 1.7274, Accuracy: 49.4624%, Time: 48.0044s\n",
            "Epoch: 13/30\n",
            "Epoch : 012, Training: Loss: 0.0862, Accuracy: 98.1818%, \n",
            "\t\tvalation : Loss : 1.8598, Accuracy: 51.9713%, Time: 48.0604s\n",
            "Epoch: 14/30\n",
            "Epoch : 013, Training: Loss: 0.0786, Accuracy: 97.8788%, \n",
            "\t\tvalation : Loss : 1.9138, Accuracy: 49.4624%, Time: 48.0631s\n",
            "Epoch: 15/30\n",
            "Epoch : 014, Training: Loss: 0.0696, Accuracy: 97.8788%, \n",
            "\t\tvalation : Loss : 1.9956, Accuracy: 46.9534%, Time: 48.5931s\n",
            "Epoch: 16/30\n",
            "Epoch : 015, Training: Loss: 0.0655, Accuracy: 97.8788%, \n",
            "\t\tvalation : Loss : 2.8022, Accuracy: 41.5771%, Time: 48.0308s\n",
            "Epoch: 17/30\n",
            "Epoch : 016, Training: Loss: 0.0599, Accuracy: 98.5606%, \n",
            "\t\tvalation : Loss : 2.2391, Accuracy: 47.3118%, Time: 48.1573s\n",
            "Epoch: 18/30\n",
            "Epoch : 017, Training: Loss: 0.0324, Accuracy: 99.3182%, \n",
            "\t\tvalation : Loss : 2.2812, Accuracy: 46.9534%, Time: 48.0679s\n",
            "Epoch: 19/30\n",
            "Epoch : 018, Training: Loss: 0.0360, Accuracy: 99.4697%, \n",
            "\t\tvalation : Loss : 2.5470, Accuracy: 44.4444%, Time: 48.0230s\n",
            "Epoch: 20/30\n",
            "Epoch : 019, Training: Loss: 0.0392, Accuracy: 98.8636%, \n",
            "\t\tvalation : Loss : 2.5981, Accuracy: 44.8029%, Time: 52.5834s\n",
            "Epoch: 21/30\n",
            "Epoch : 020, Training: Loss: 0.0319, Accuracy: 99.6212%, \n",
            "\t\tvalation : Loss : 2.4381, Accuracy: 46.9534%, Time: 51.1131s\n",
            "Epoch: 22/30\n",
            "Epoch : 021, Training: Loss: 0.0239, Accuracy: 99.3939%, \n",
            "\t\tvalation : Loss : 2.7730, Accuracy: 45.1613%, Time: 47.9729s\n",
            "Epoch: 23/30\n",
            "Epoch : 022, Training: Loss: 0.0160, Accuracy: 99.6970%, \n",
            "\t\tvalation : Loss : 2.3874, Accuracy: 49.4624%, Time: 48.1783s\n",
            "Epoch: 24/30\n",
            "Epoch : 023, Training: Loss: 0.0179, Accuracy: 99.4697%, \n",
            "\t\tvalation : Loss : 2.5745, Accuracy: 49.1039%, Time: 48.1270s\n",
            "Epoch: 25/30\n",
            "Epoch : 024, Training: Loss: 0.0282, Accuracy: 99.3182%, \n",
            "\t\tvalation : Loss : 2.7002, Accuracy: 48.7455%, Time: 66.8565s\n",
            "Epoch: 26/30\n",
            "Epoch : 025, Training: Loss: 0.0255, Accuracy: 99.1667%, \n",
            "\t\tvalation : Loss : 2.4166, Accuracy: 46.2366%, Time: 48.1354s\n",
            "Epoch: 27/30\n",
            "Epoch : 026, Training: Loss: 0.0213, Accuracy: 99.4697%, \n",
            "\t\tvalation : Loss : 2.5791, Accuracy: 46.9534%, Time: 48.1343s\n",
            "Epoch: 28/30\n",
            "Epoch : 027, Training: Loss: 0.0170, Accuracy: 99.8485%, \n",
            "\t\tvalation : Loss : 2.7676, Accuracy: 46.5950%, Time: 48.1512s\n",
            "Epoch: 29/30\n",
            "Epoch : 028, Training: Loss: 0.0266, Accuracy: 99.5455%, \n",
            "\t\tvalation : Loss : 2.7132, Accuracy: 48.0287%, Time: 48.2362s\n",
            "Epoch: 30/30\n",
            "Epoch : 029, Training: Loss: 0.0217, Accuracy: 99.3939%, \n",
            "\t\tvalation : Loss : 2.6960, Accuracy: 47.6703%, Time: 48.2406s\n"
          ],
          "name": "stdout"
        }
      ]
    },
    {
      "cell_type": "code",
      "metadata": {
        "id": "65ePIX9IlRZ_",
        "colab_type": "code",
        "colab": {
          "base_uri": "https://localhost:8080/",
          "height": 283
        },
        "outputId": "34e6c20b-18ba-4c75-f8ed-31e6e7ab615d"
      },
      "source": [
        "history = np.array(history)\n",
        "plt.plot(history[:,0:2])\n",
        "plt.legend(['Tr Loss', 'Val Loss'])\n",
        "plt.xlabel('Epoch Number')\n",
        "plt.ylabel('Loss')\n",
        "plt.ylim(0,1)\n",
        "plt.savefig(dataset+'_loss_curve.png')\n",
        "plt.show()\n"
      ],
      "execution_count": 42,
      "outputs": [
        {
          "output_type": "display_data",
          "data": {
            "image/png": "[encoded data removed]",
            "text/plain": [
              "<Figure size 432x288 with 1 Axes>"
            ]
          },
          "metadata": {
            "tags": [],
            "needs_background": "light"
          }
        }
      ]
    },
    {
      "cell_type": "code",
      "metadata": {
        "id": "1eSH2BkilRav",
        "colab_type": "code",
        "colab": {
          "base_uri": "https://localhost:8080/",
          "height": 283
        },
        "outputId": "13a66406-8c73-45f8-f153-db65d58258cc"
      },
      "source": [
        "plt.plot(history[:,2:4])\n",
        "plt.legend(['Tr Accuracy', 'Val Accuracy'])\n",
        "plt.xlabel('Epoch Number')\n",
        "plt.ylabel('Accuracy')\n",
        "plt.ylim(0,1)\n",
        "plt.savefig(dataset+'_accuracy_curve.png')\n",
        "plt.show()"
      ],
      "execution_count": 43,
      "outputs": [
        {
          "output_type": "display_data",
          "data": {
            "image/png": "[encoded data removed]",
            "text/plain": [
              "<Figure size 432x288 with 1 Axes>"
            ]
          },
          "metadata": {
            "tags": [],
            "needs_background": "light"
          }
        }
      ]
    },
    {
      "cell_type": "code",
      "metadata": {
        "id": "iOjQF9sKlRa2",
        "colab_type": "code",
        "colab": {}
      },
      "source": [
        " def computeTestSetAccuracy(model, loss_criterion):\n",
        "    '''\n",
        "    Function to compute the accuracy on the test set\n",
        "    Parameters\n",
        "        :param model: Model to test\n",
        "        :param loss_criterion: Loss Criterion to minimize\n",
        "    '''\n",
        "\n",
        "    device = torch.device(\"cuda:0\" if torch.cuda.is_available() else \"cpu\")\n",
        "\n",
        "    test_acc = 0.0\n",
        "    test_loss = 0.0\n",
        "\n",
        "    # Validation - No gradient tracking needed\n",
        "    with torch.no_grad():\n",
        "\n",
        "        # Set to evaluation mode\n",
        "        model.eval()\n",
        "\n",
        "        # Validation loop\n",
        "        for j, (inputs, labels) in enumerate(test_data_loader):\n",
        "            inputs = inputs.to(device)\n",
        "            labels = labels.to(device)\n",
        "\n",
        "            # Forward pass - compute outputs on input data using the model\n",
        "            outputs = model(inputs)\n",
        "\n",
        "            # Compute loss\n",
        "            loss = loss_criterion(outputs, labels)\n",
        "\n",
        "            # Compute the total loss for the batch and add it to valid_loss\n",
        "            test_loss += loss.item() * inputs.size(0)\n",
        "\n",
        "            # Calculate validation accuracy\n",
        "            ret, predictions = torch.max(outputs.data, 1)\n",
        "            correct_counts = predictions.eq(labels.data.view_as(predictions))\n",
        "\n",
        "            # Convert correct_counts to float and then compute the mean\n",
        "            acc = torch.mean(correct_counts.type(torch.FloatTensor))\n",
        "\n",
        "            # Compute total accuracy in the whole batch and add to valid_acc\n",
        "            test_acc += acc.item() * inputs.size(0)\n",
        "\n",
        "            print(\"Test Batch number: {:03d}, Test: Loss: {:.4f}, Accuracy: {:.4f}\".format(j, loss.item(), acc.item()))\n",
        "\n",
        "    # Find average test loss and test accuracy\n",
        "    avg_test_loss = test_loss/test_data_size \n",
        "    avg_test_acc = test_acc/test_data_size\n",
        "\n",
        "    print(\"Test accuracy : \" + str(avg_test_acc))\n"
      ],
      "execution_count": 0,
      "outputs": []
    },
    {
      "cell_type": "code",
      "metadata": {
        "id": "ybJchtlZlRa-",
        "colab_type": "code",
        "colab": {}
      },
      "source": [
        "def predict(model, test_image_name):\n",
        "    '''\n",
        "    Function to predict the class of a single test image\n",
        "    Parameters\n",
        "        :param model: Model to test\n",
        "        :param test_image_name: Test image\n",
        "\n",
        "    '''\n",
        "    \n",
        "    transform = image_transforms['test']\n",
        "\n",
        "    test_image = Image.open(test_image_name)\n",
        "    plt.imshow(test_image)\n",
        "    \n",
        "    test_image_tensor = transform(test_image)\n",
        "\n",
        "    if torch.cuda.is_available():\n",
        "        test_image_tensor = test_image_tensor.view(1, 3, 224, 224).cuda()\n",
        "    else:\n",
        "        test_image_tensor = test_image_tensor.view(1, 3, 224, 224)\n",
        "    \n",
        "    with torch.no_grad():\n",
        "        model.eval()\n",
        "        # Model outputs log probabilities\n",
        "        out = model(test_image_tensor)\n",
        "        ps = torch.exp(out)\n",
        "        topk, topclass = ps.topk(3, dim=1)\n",
        "        for i in range(3):\n",
        "            print(\"Predcition\", i+1, \":\", idx_to_class[topclass.cpu().numpy()[0][i]], \", Score: \", topk.cpu().numpy()[0][i])\n",
        "    return  idx_to_class[topclass.cpu().numpy()[0][0]]"
      ],
      "execution_count": 0,
      "outputs": []
    },
    {
      "cell_type": "code",
      "metadata": {
        "id": "nGaWq7LE8POn",
        "colab_type": "code",
        "colab": {}
      },
      "source": [
        "# Test a particular model on a test image\n",
        "dataset = 'ntrain_faces_categories'\n",
        "model = torch.load('ntrain_faces_categories_model_29.pt')"
      ],
      "execution_count": 0,
      "outputs": []
    },
    {
      "cell_type": "code",
      "metadata": {
        "id": "mkIdoJNN8dIb",
        "colab_type": "code",
        "colab": {}
      },
      "source": [
        "import pandas as pd\n",
        "import tqdm\n",
        "df_test = pd.read_csv('test.csv')\n",
        "df_sample_submission = pd.read_csv('sample_submission.csv')"
      ],
      "execution_count": 0,
      "outputs": []
    },
    {
      "cell_type": "code",
      "metadata": {
        "id": "I42pDQbp8yBO",
        "colab_type": "code",
        "colab": {
          "base_uri": "https://localhost:8080/",
          "height": 34
        },
        "outputId": "ecfd1910-e37d-42a4-e201-aecb117b9961"
      },
      "source": [
        "test_path='ntest'\n",
        "\n",
        "for img in df_test.image_file:  \n",
        "  print(os.path.join(test_path,img+'.jpg'))\n",
        "\n",
        "len(os.listdir(test_path))  "
      ],
      "execution_count": 6,
      "outputs": [
        {
          "output_type": "execute_result",
          "data": {
            "text/plain": [
              "275"
            ]
          },
          "metadata": {
            "tags": []
          },
          "execution_count": 6
        }
      ]
    },
    {
      "cell_type": "code",
      "metadata": {
        "id": "xc-aC39llRbF",
        "colab_type": "code",
        "colab": {}
      },
      "source": [
        "y_pred=predict(model, 'ntest_faces/IMG_10000166f.jpg')\n",
        "\n",
        "# Load Data from folders\n",
        "#computeTestSetAccuracy(model, loss_func)  \n",
        "y_pred     "
      ],
      "execution_count": 0,
      "outputs": []
    },
    {
      "cell_type": "code",
      "metadata": {
        "id": "no7zKsEHtosg",
        "colab_type": "code",
        "colab": {}
      },
      "source": [
        "%%sh\n",
        "pip3 install detecto"
      ],
      "execution_count": 0,
      "outputs": []
    },
    {
      "cell_type": "code",
      "metadata": {
        "id": "9Sk6AFPltend",
        "colab_type": "code",
        "colab": {}
      },
      "source": [
        "from detecto import core, utils, visualize"
      ],
      "execution_count": 0,
      "outputs": []
    },
    {
      "cell_type": "code",
      "metadata": {
        "id": "675f3Tcrtu3E",
        "colab_type": "code",
        "colab": {
          "base_uri": "https://localhost:8080/",
          "height": 103,
          "referenced_widgets": [
            "486bde91807f42dcb831498f79778e5d",
            "717842429f61412b947d12f4be64e50b",
            "3cd034021d084047a2d8010f4f197be8",
            "cc63cdf588324f2a8eeed3ea61f7b685",
            "e6abcec8222f4717b699fa8f9475030c",
            "daf1ecf2abc34ffe9a86b34e0b44f779",
            "df8256b6d8f84512958bb66395eb08ae",
            "4382ad7e299d423c8ee13a04c9f5b45c"
          ]
        },
        "outputId": "5e8b41ea-b6e1-490c-a266-1239b39a2257"
      },
      "source": [
        "face_detect_model = core.Model.load('model_weights2.pth', ['jerry', 'tom'])"
      ],
      "execution_count": 17,
      "outputs": [
        {
          "output_type": "stream",
          "text": [
            "Downloading: \"https://download.pytorch.org/models/fasterrcnn_resnet50_fpn_coco-258fb6c6.pth\" to /root/.cache/torch/checkpoints/fasterrcnn_resnet50_fpn_coco-258fb6c6.pth\n"
          ],
          "name": "stderr"
        },
        {
          "output_type": "display_data",
          "data": {
            "application/vnd.jupyter.widget-view+json": {
              "model_id": "486bde91807f42dcb831498f79778e5d",
              "version_minor": 0,
              "version_major": 2
            },
            "text/plain": [
              "HBox(children=(IntProgress(value=0, max=167502836), HTML(value='')))"
            ]
          },
          "metadata": {
            "tags": []
          }
        },
        {
          "output_type": "stream",
          "text": [
            "\n"
          ],
          "name": "stdout"
        }
      ]
    },
    {
      "cell_type": "code",
      "metadata": {
        "id": "E8XOfKhczZXj",
        "colab_type": "code",
        "colab": {}
      },
      "source": [
        "dict_num2class={0:'angry', 1:'happy', 2:'sad', 3:'surprised', 4:'Unknown'}\n",
        "dict_class2num={'angry':0, 'happy':1, 'sad':2, 'surprised':3, 'Unknown':4}"
      ],
      "execution_count": 0,
      "outputs": []
    },
    {
      "cell_type": "code",
      "metadata": {
        "id": "XDwADhNRt6Hj",
        "colab_type": "code",
        "colab": {}
      },
      "source": [
        "from PIL import Image\n",
        "def predict2(model, test_image):\n",
        "    '''\n",
        "    Function to predict the class of a single test image\n",
        "    Parameters\n",
        "        :param model: Model to test\n",
        "        :param test_image_name: Test image\n",
        "\n",
        "    '''\n",
        "    \n",
        "    test_image = Image.fromarray(test_image)\n",
        "    transform = image_transforms['test']\n",
        "\n",
        "    #test_image = Image.open(test_image_name)\n",
        "    #plt.imshow(test_image)\n",
        "    \n",
        "    test_image_tensor = transform(test_image)\n",
        "\n",
        "    if torch.cuda.is_available():\n",
        "        test_image_tensor = test_image_tensor.view(1, 3, 224, 224).cuda()\n",
        "    else:\n",
        "        test_image_tensor = test_image_tensor.view(1, 3, 224, 224)\n",
        "    \n",
        "    with torch.no_grad():\n",
        "        model.eval()\n",
        "        # Model outputs log probabilities\n",
        "        out = model(test_image_tensor)\n",
        "        ps = torch.exp(out)\n",
        "        topk, topclass = ps.topk(3, dim=1)\n",
        "        #for i in range(3):\n",
        "            #print(\"Predcition\", i+1, \":\", idx_to_class[topclass.cpu().numpy()[0][i]], \", Score: \", topk.cpu().numpy()[0][i])\n",
        "    return  idx_to_class[topclass.cpu().numpy()[0][0]]\n",
        "\n",
        "def getCroppedImage(box,img):\n",
        "  box=[int(item) for item in box]\n",
        "  left,top,right,bottom=box[0],box[1],box[2],box[3]\n",
        "  #print(left,right,top,bottom)\n",
        "  crop_img=img[top:bottom,left:right]\n",
        "\n",
        "  return crop_img\n",
        "def PredictEmotion(image_paths):\n",
        "\n",
        "   y_pred=[]\n",
        "\n",
        "   \n",
        "   for item in image_paths:\n",
        "     #print(item)     \n",
        "     image = utils.read_image(item)\n",
        "     labels, boxes, scores = face_detect_model.predict(image)\n",
        "     \n",
        "     if(len(boxes)!=0):\n",
        "       crop_img = getCroppedImage(boxes[0],image)\n",
        "       label_str=predict2(model, crop_img)\n",
        "       label_num=dict_class2num[label_str]\n",
        "       print('Found Box')\n",
        "     else:  \n",
        "       label_num=dict_class2num['Unknown'] \n",
        "       print('Box not found')\n",
        "     print(item,label_str,label_num) \n",
        "     y_pred.append(label_num)     \n",
        "   return y_pred"
      ],
      "execution_count": 0,
      "outputs": []
    },
    {
      "cell_type": "code",
      "metadata": {
        "id": "tNctDleGutwT",
        "colab_type": "code",
        "colab": {}
      },
      "source": [
        "images_path='ntest'\n",
        "test_images=[os.path.join(images_path,img+'.jpg')  for img in df_test.image_file]\n",
        "y_pred=PredictEmotion(test_images)"
      ],
      "execution_count": 0,
      "outputs": []
    },
    {
      "cell_type": "code",
      "metadata": {
        "id": "C-OyraK8BzJd",
        "colab_type": "code",
        "colab": {}
      },
      "source": [
        "y_pred"
      ],
      "execution_count": 0,
      "outputs": []
    },
    {
      "cell_type": "code",
      "metadata": {
        "id": "ry_4DbdiCjeQ",
        "colab_type": "code",
        "colab": {
          "base_uri": "https://localhost:8080/",
          "height": 204
        },
        "outputId": "f83074ad-cc90-43f0-d11a-1bba8c6c6eff"
      },
      "source": [
        "# replacing the label with prediction\n",
        "df_sample_submission['emotion'] = y_pred\n",
        "df_sample_submission.head()"
      ],
      "execution_count": 95,
      "outputs": [
        {
          "output_type": "execute_result",
          "data": {
            "text/html": [
              "<div>\n",
              "<style scoped>\n",
              "    .dataframe tbody tr th:only-of-type {\n",
              "        vertical-align: middle;\n",
              "    }\n",
              "\n",
              "    .dataframe tbody tr th {\n",
              "        vertical-align: top;\n",
              "    }\n",
              "\n",
              "    .dataframe thead th {\n",
              "        text-align: right;\n",
              "    }\n",
              "</style>\n",
              "<table border=\"1\" class=\"dataframe\">\n",
              "  <thead>\n",
              "    <tr style=\"text-align: right;\">\n",
              "      <th></th>\n",
              "      <th>emotion</th>\n",
              "    </tr>\n",
              "  </thead>\n",
              "  <tbody>\n",
              "    <tr>\n",
              "      <th>0</th>\n",
              "      <td>2</td>\n",
              "    </tr>\n",
              "    <tr>\n",
              "      <th>1</th>\n",
              "      <td>4</td>\n",
              "    </tr>\n",
              "    <tr>\n",
              "      <th>2</th>\n",
              "      <td>1</td>\n",
              "    </tr>\n",
              "    <tr>\n",
              "      <th>3</th>\n",
              "      <td>2</td>\n",
              "    </tr>\n",
              "    <tr>\n",
              "      <th>4</th>\n",
              "      <td>1</td>\n",
              "    </tr>\n",
              "  </tbody>\n",
              "</table>\n",
              "</div>"
            ],
            "text/plain": [
              "   emotion\n",
              "0        2\n",
              "1        4\n",
              "2        1\n",
              "3        2\n",
              "4        1"
            ]
          },
          "metadata": {
            "tags": []
          },
          "execution_count": 95
        }
      ]
    },
    {
      "cell_type": "code",
      "metadata": {
        "id": "L1dpKKLODA-W",
        "colab_type": "code",
        "colab": {}
      },
      "source": [
        "# saving the file\n",
        "df_sample_submission.to_csv('submission.csv', index=False)"
      ],
      "execution_count": 0,
      "outputs": []
    },
    {
      "cell_type": "code",
      "metadata": {
        "id": "UC23ZWGbDJXD",
        "colab_type": "code",
        "colab": {}
      },
      "source": [
        "output_emotions=[dict_num2class[item] for item in y_pred]\n",
        "df_output=df_test.copy()\n",
        "df_output['file_path']=test_images\n",
        "df_output['emotion']=output_emotions\n",
        "df_output.head()"
      ],
      "execution_count": 0,
      "outputs": []
    },
    {
      "cell_type": "code",
      "metadata": {
        "id": "1-zdP3vvEmZc",
        "colab_type": "code",
        "colab": {}
      },
      "source": [
        "import cv2\n",
        "for item in df_output.head(6).itertuples():\n",
        "  \n",
        "  im=cv2.imread(item[2])\n",
        "  plt.imshow(im)\n",
        "  plt.axis('off')\n",
        "  plt.title(item[3])\n",
        "  plt.show()    "
      ],
      "execution_count": 0,
      "outputs": []
    }
  ]
}